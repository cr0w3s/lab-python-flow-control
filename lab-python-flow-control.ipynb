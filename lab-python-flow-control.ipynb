{
 "cells": [
  {
   "cell_type": "markdown",
   "id": "d3bfc191-8885-42ee-b0a0-bbab867c6f9f",
   "metadata": {
    "tags": []
   },
   "source": [
    "# Lab | Flow Control"
   ]
  },
  {
   "cell_type": "markdown",
   "id": "3851fcd1-cf98-4653-9c89-e003b7ec9400",
   "metadata": {},
   "source": [
    "## Exercise: Managing Customer Orders Optimized\n",
    "\n",
    "In the last lab, you were starting an online store that sells various products. To ensure smooth operations, you developed a program that manages customer orders and inventory.\n",
    "\n",
    "You did so without using flow control. Let's go a step further and improve this code.\n",
    "\n",
    "Follow the steps below to complete the exercise:\n",
    "\n",
    "1. Look at your code from the lab data structures, and improve repeated code with loops.\n",
    "\n",
    "2. Instead of asking the user to input the name of three products that a customer wants to order, do the following:\n",
    "    \n",
    "    a. Prompt the user to enter the name of a product that a customer wants to order.\n",
    "    \n",
    "    b. Add the product name to the \"customer_orders\" set.\n",
    "    \n",
    "    c. Ask the user if they want to add another product (yes/no).\n",
    "    \n",
    "    d. Continue the loop until the user does not want to add another product.\n",
    "\n",
    "3. Instead of updating the inventory by subtracting 1 from the quantity of each product, only do it for  the products that were ordered (those in \"customer_orders\")."
   ]
  },
  {
   "cell_type": "code",
   "execution_count": 2,
   "id": "b118bd73-3238-4049-afa7-e96175f6e148",
   "metadata": {},
   "outputs": [],
   "source": [
    "#defining variables & more\n",
    "products = [\"t-shirt\",\"mug\",\"hat\",\"book\",\"keychain\"]\n",
    "inventory = {}\n",
    "customer_orders = set()"
   ]
  },
  {
   "cell_type": "code",
   "execution_count": 5,
   "id": "0e991f31-0ed2-4ea1-9728-57acc3cdad44",
   "metadata": {},
   "outputs": [
    {
     "name": "stdin",
     "output_type": "stream",
     "text": [
      "Please insert the current inventory for t-shirt 6\n",
      "Please insert the current inventory for mug h\n"
     ]
    },
    {
     "name": "stdout",
     "output_type": "stream",
     "text": [
      "That's not a valid number, please input a whole number\n"
     ]
    },
    {
     "name": "stdin",
     "output_type": "stream",
     "text": [
      "Please insert the current inventory for mug ik\n"
     ]
    },
    {
     "name": "stdout",
     "output_type": "stream",
     "text": [
      "That's not a valid number, please input a whole number\n"
     ]
    },
    {
     "name": "stdin",
     "output_type": "stream",
     "text": [
      "Please insert the current inventory for mug 5\n",
      "Please insert the current inventory for hat 8\n",
      "Please insert the current inventory for book 9\n",
      "Please insert the current inventory for keychain t\n"
     ]
    },
    {
     "name": "stdout",
     "output_type": "stream",
     "text": [
      "That's not a valid number, please input a whole number\n"
     ]
    },
    {
     "name": "stdin",
     "output_type": "stream",
     "text": [
      "Please insert the current inventory for keychain 9\n"
     ]
    }
   ],
   "source": [
    "#inventory for loop\n",
    "\n",
    "for prod in products:\n",
    "    # attempt at making the code more robust by correcting users who have input text instead of a numbe\n",
    "    input_not_valid = True\n",
    "    while input_not_valid:\n",
    "        user_input = input(f\"Please insert the current inventory for {prod}\")\n",
    "        try:\n",
    "            ncheck = int(user_input)\n",
    "            inventory[prod] = ncheck\n",
    "            input_not_valid = False\n",
    "        except ValueError:\n",
    "            print(\"That's not a valid number, please input a whole number\")"
   ]
  },
  {
   "cell_type": "code",
   "execution_count": 7,
   "id": "c2dcaf8c-8ed9-4a6e-85ef-98d4f5673870",
   "metadata": {},
   "outputs": [
    {
     "name": "stdin",
     "output_type": "stream",
     "text": [
      "Which of the following items would you like to order: t-shirt, mug, hat, book, or keychain? mug\n",
      "Would you like to order another product, yes or no? yes\n",
      "Which of the following items would you like to order: t-shirt, mug, hat, book, or keychain? hat\n",
      "Would you like to order another product, yes or no? yes\n",
      "Which of the following items would you like to order: t-shirt, mug, hat, book, or keychain? book\n",
      "Would you like to order another product, yes or no? no\n"
     ]
    },
    {
     "name": "stdout",
     "output_type": "stream",
     "text": [
      "Thank you, your order is complete =]\n"
     ]
    }
   ],
   "source": [
    "#creating the customer order set\n",
    "orders = \"yes\"\n",
    "\n",
    "while orders == \"yes\":\n",
    "    item = input(\"Which of the following items would you like to order: t-shirt, mug, hat, book, or keychain?\").lower()\n",
    "    if item in products:\n",
    "        customer_orders.add(item)\n",
    "    else:\n",
    "        print(\"Input is invalid, only items from the list can be chosen\")\n",
    "    orders = input(\"Would you like to order another product, yes or no?\").lower()\n",
    "\n",
    "print(\"Thank you, your order is complete =]\")"
   ]
  },
  {
   "cell_type": "code",
   "execution_count": 8,
   "id": "6f6e8cbe-9b85-406a-854e-8b5d88557653",
   "metadata": {},
   "outputs": [
    {
     "name": "stdout",
     "output_type": "stream",
     "text": [
      "{'hat', 'mug', 'book'}\n"
     ]
    }
   ],
   "source": [
    "# check to see if the orders are in the set\n",
    "print(customer_orders)  "
   ]
  },
  {
   "cell_type": "code",
   "execution_count": 9,
   "id": "5ffc4f32-d123-4b93-b614-a6ba9455c0a2",
   "metadata": {},
   "outputs": [],
   "source": [
    "# calculating order stats\n",
    "\n",
    "total_order = len(customer_orders)\n",
    "total_percentage = int((total_order/sum(inventory.values()))*100)"
   ]
  },
  {
   "cell_type": "code",
   "execution_count": 10,
   "id": "00f00ca1-7c13-416e-b58c-82635fe7ab10",
   "metadata": {},
   "outputs": [
    {
     "name": "stdout",
     "output_type": "stream",
     "text": [
      "(3, 8)\n"
     ]
    }
   ],
   "source": [
    "#storing order stats in tuple\n",
    "\n",
    "order_status = (total_order, total_percentage)\n",
    "print(order_status)"
   ]
  },
  {
   "cell_type": "code",
   "execution_count": 11,
   "id": "46dbb1f6-afca-4831-8492-46bf11658374",
   "metadata": {},
   "outputs": [
    {
     "name": "stdout",
     "output_type": "stream",
     "text": [
      "Order Statistics:\n",
      "Total Products Ordered: 3 \n",
      "Percentage of Products Ordered: 8 %\n"
     ]
    }
   ],
   "source": [
    "#printing order stats\n",
    "\n",
    "print(\"Order Statistics:\\nTotal Products Ordered:\",total_order,\"\\nPercentage of Products Ordered:\",total_percentage,\"%\")"
   ]
  },
  {
   "cell_type": "code",
   "execution_count": 12,
   "id": "167e8642-420b-46f8-b157-6db5b1f189f1",
   "metadata": {},
   "outputs": [],
   "source": [
    "#updating the inventory\n",
    "\n",
    "for prod in products:\n",
    "    if prod in customer_orders:\n",
    "        inventory[prod]-=1"
   ]
  },
  {
   "cell_type": "code",
   "execution_count": 13,
   "id": "36391fbf-b18c-4963-ae29-6eeba739e6cc",
   "metadata": {},
   "outputs": [
    {
     "name": "stdout",
     "output_type": "stream",
     "text": [
      "The quantity of t-shirt left available is 6\n",
      "\n",
      "The quantity of mug left available is 4\n",
      "\n",
      "The quantity of hat left available is 7\n",
      "\n",
      "The quantity of book left available is 8\n",
      "\n",
      "The quantity of keychain left available is 9\n",
      "\n"
     ]
    }
   ],
   "source": [
    "for quant in products:\n",
    "    print(f\"The quantity of {quant} left available is {inventory[quant]}\\n\")"
   ]
  },
  {
   "cell_type": "code",
   "execution_count": null,
   "id": "625c9d67-220b-48ed-96bd-4d906dc70866",
   "metadata": {},
   "outputs": [],
   "source": []
  }
 ],
 "metadata": {
  "kernelspec": {
   "display_name": "Python 3 (ipykernel)",
   "language": "python",
   "name": "python3"
  },
  "language_info": {
   "codemirror_mode": {
    "name": "ipython",
    "version": 3
   },
   "file_extension": ".py",
   "mimetype": "text/x-python",
   "name": "python",
   "nbconvert_exporter": "python",
   "pygments_lexer": "ipython3",
   "version": "3.11.9"
  }
 },
 "nbformat": 4,
 "nbformat_minor": 5
}
